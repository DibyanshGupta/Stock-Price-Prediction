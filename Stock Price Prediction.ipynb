{
 "cells": [
  {
   "cell_type": "code",
   "execution_count": 1,
   "id": "e6ef4574",
   "metadata": {},
   "outputs": [
    {
     "data": {
      "text/plain": [
       "(4494,)"
      ]
     },
     "execution_count": 1,
     "metadata": {},
     "output_type": "execute_result"
    }
   ],
   "source": [
    "import pandas as pd\n",
    "df = pd.read_csv('TCS1.csv')\n",
    "df2 = df.reset_index()['Close']\n",
    "df2.shape"
   ]
  },
  {
   "cell_type": "code",
   "execution_count": 2,
   "id": "053e0022",
   "metadata": {},
   "outputs": [
    {
     "data": {
      "text/html": [
       "<div>\n",
       "<style scoped>\n",
       "    .dataframe tbody tr th:only-of-type {\n",
       "        vertical-align: middle;\n",
       "    }\n",
       "\n",
       "    .dataframe tbody tr th {\n",
       "        vertical-align: top;\n",
       "    }\n",
       "\n",
       "    .dataframe thead th {\n",
       "        text-align: right;\n",
       "    }\n",
       "</style>\n",
       "<table border=\"1\" class=\"dataframe\">\n",
       "  <thead>\n",
       "    <tr style=\"text-align: right;\">\n",
       "      <th></th>\n",
       "      <th>Date</th>\n",
       "      <th>Open</th>\n",
       "      <th>High</th>\n",
       "      <th>Low</th>\n",
       "      <th>Close</th>\n",
       "      <th>Adj Close</th>\n",
       "      <th>Volume</th>\n",
       "    </tr>\n",
       "  </thead>\n",
       "  <tbody>\n",
       "    <tr>\n",
       "      <th>4489</th>\n",
       "      <td>2022-10-18</td>\n",
       "      <td>3150.000000</td>\n",
       "      <td>3155.350098</td>\n",
       "      <td>3128.550049</td>\n",
       "      <td>3144.699951</td>\n",
       "      <td>3144.699951</td>\n",
       "      <td>1793722.0</td>\n",
       "    </tr>\n",
       "    <tr>\n",
       "      <th>4490</th>\n",
       "      <td>2022-10-19</td>\n",
       "      <td>3159.000000</td>\n",
       "      <td>3159.000000</td>\n",
       "      <td>3112.000000</td>\n",
       "      <td>3121.850098</td>\n",
       "      <td>3121.850098</td>\n",
       "      <td>1194289.0</td>\n",
       "    </tr>\n",
       "    <tr>\n",
       "      <th>4491</th>\n",
       "      <td>2022-10-20</td>\n",
       "      <td>3105.000000</td>\n",
       "      <td>3160.000000</td>\n",
       "      <td>3105.000000</td>\n",
       "      <td>3157.300049</td>\n",
       "      <td>3157.300049</td>\n",
       "      <td>1587601.0</td>\n",
       "    </tr>\n",
       "    <tr>\n",
       "      <th>4492</th>\n",
       "      <td>2022-10-21</td>\n",
       "      <td>3157.800049</td>\n",
       "      <td>3160.399902</td>\n",
       "      <td>3127.000000</td>\n",
       "      <td>3137.399902</td>\n",
       "      <td>3137.399902</td>\n",
       "      <td>1021913.0</td>\n",
       "    </tr>\n",
       "    <tr>\n",
       "      <th>4493</th>\n",
       "      <td>2022-10-24</td>\n",
       "      <td>3170.100098</td>\n",
       "      <td>3178.000000</td>\n",
       "      <td>3155.000000</td>\n",
       "      <td>3161.699951</td>\n",
       "      <td>3161.699951</td>\n",
       "      <td>260949.0</td>\n",
       "    </tr>\n",
       "  </tbody>\n",
       "</table>\n",
       "</div>"
      ],
      "text/plain": [
       "            Date         Open         High          Low        Close   \n",
       "4489  2022-10-18  3150.000000  3155.350098  3128.550049  3144.699951  \\\n",
       "4490  2022-10-19  3159.000000  3159.000000  3112.000000  3121.850098   \n",
       "4491  2022-10-20  3105.000000  3160.000000  3105.000000  3157.300049   \n",
       "4492  2022-10-21  3157.800049  3160.399902  3127.000000  3137.399902   \n",
       "4493  2022-10-24  3170.100098  3178.000000  3155.000000  3161.699951   \n",
       "\n",
       "        Adj Close     Volume  \n",
       "4489  3144.699951  1793722.0  \n",
       "4490  3121.850098  1194289.0  \n",
       "4491  3157.300049  1587601.0  \n",
       "4492  3137.399902  1021913.0  \n",
       "4493  3161.699951   260949.0  "
      ]
     },
     "execution_count": 2,
     "metadata": {},
     "output_type": "execute_result"
    }
   ],
   "source": [
    "df.tail()"
   ]
  },
  {
   "cell_type": "code",
   "execution_count": 3,
   "id": "5e8acd3a",
   "metadata": {},
   "outputs": [
    {
     "data": {
      "text/plain": [
       "[<matplotlib.lines.Line2D at 0x1661a9ebd50>]"
      ]
     },
     "execution_count": 3,
     "metadata": {},
     "output_type": "execute_result"
    },
    {
     "data": {
      "image/png": "[encoded data removed]",
      "text/plain": [
       "<Figure size 640x480 with 1 Axes>"
      ]
     },
     "metadata": {},
     "output_type": "display_data"
    }
   ],
   "source": [
    "import matplotlib.pyplot as plt\n",
    "plt.plot(df2)"
   ]
  },
  {
   "cell_type": "code",
   "execution_count": 4,
   "id": "307f7668",
   "metadata": {},
   "outputs": [
    {
     "data": {
      "text/plain": [
       "8"
      ]
     },
     "execution_count": 4,
     "metadata": {},
     "output_type": "execute_result"
    }
   ],
   "source": [
    "df2.isnull().sum()"
   ]
  },
  {
   "cell_type": "code",
   "execution_count": 5,
   "id": "47d0a2d4",
   "metadata": {},
   "outputs": [],
   "source": [
    "df2 = df2.dropna()"
   ]
  },
  {
   "cell_type": "code",
   "execution_count": 6,
   "id": "a40af0b0",
   "metadata": {},
   "outputs": [
    {
     "data": {
      "text/plain": [
       "0"
      ]
     },
     "execution_count": 6,
     "metadata": {},
     "output_type": "execute_result"
    }
   ],
   "source": [
    "df2.isnull().sum()"
   ]
  },
  {
   "cell_type": "code",
   "execution_count": 7,
   "id": "f52bf381",
   "metadata": {},
   "outputs": [],
   "source": [
    "import numpy as np"
   ]
  },
  {
   "cell_type": "code",
   "execution_count": 8,
   "id": "41799ed7",
   "metadata": {},
   "outputs": [],
   "source": [
    "from sklearn.preprocessing import MinMaxScaler\n",
    "scaler = MinMaxScaler(feature_range=(0,1))\n",
    "df1 = scaler.fit_transform(np.array(df2).reshape(-1,1))"
   ]
  },
  {
   "cell_type": "code",
   "execution_count": 9,
   "id": "26e0e362",
   "metadata": {},
   "outputs": [
    {
     "data": {
      "text/plain": [
       "(4486, 1)"
      ]
     },
     "execution_count": 9,
     "metadata": {},
     "output_type": "execute_result"
    }
   ],
   "source": [
    "df1.shape"
   ]
  },
  {
   "cell_type": "code",
   "execution_count": 10,
   "id": "7990e49a",
   "metadata": {},
   "outputs": [],
   "source": [
    "## splitting dataset into train and test data\n",
    "training_size = int(len(df1)*0.7)\n",
    "test_size = len(df1) - training_size\n",
    "train_data, test_data = df1[0:training_size,:], df1[training_size:len(df1),:1]"
   ]
  },
  {
   "cell_type": "code",
   "execution_count": 11,
   "id": "bc0685b5",
   "metadata": {},
   "outputs": [],
   "source": [
    "# convert an array of values into a dataset matrix\n",
    "def create_dataset(dataset, time_step = 1):\n",
    "    dataX, dataY = [],[]\n",
    "    for i in range(len(dataset)-time_step-1):\n",
    "        a = dataset[i:(i+time_step), 0]\n",
    "        dataX.append(a)\n",
    "        dataY.append(dataset[i + time_step, 0])\n",
    "    return np.array(dataX), np.array(dataY)"
   ]
  },
  {
   "cell_type": "code",
   "execution_count": 12,
   "id": "3b52521b",
   "metadata": {},
   "outputs": [],
   "source": [
    "time_step = 100\n",
    "X_train, Y_train = create_dataset(train_data, time_step)\n",
    "X_test, Y_test = create_dataset(test_data, time_step)"
   ]
  },
  {
   "cell_type": "code",
   "execution_count": 13,
   "id": "0f55ff48",
   "metadata": {},
   "outputs": [
    {
     "name": "stdout",
     "output_type": "stream",
     "text": [
      "[[0.00224754 0.00301848 0.00306134 ... 0.01297664 0.01281157 0.01292353]\n",
      " [0.00301848 0.00306134 0.00305494 ... 0.01281157 0.01292353 0.01186342]\n",
      " [0.00306134 0.00305494 0.0032392  ... 0.01292353 0.01186342 0.01188261]\n",
      " ...\n",
      " [0.25392826 0.26054357 0.26353132 ... 0.27118308 0.27247544 0.26990352]\n",
      " [0.26054357 0.26353132 0.26433104 ... 0.27247544 0.26990352 0.27207877]\n",
      " [0.26353132 0.26433104 0.27078003 ... 0.26990352 0.27207877 0.27351187]]\n"
     ]
    }
   ],
   "source": [
    "print(X_train)"
   ]
  },
  {
   "cell_type": "code",
   "execution_count": 14,
   "id": "4219a9d4",
   "metadata": {},
   "outputs": [
    {
     "name": "stdout",
     "output_type": "stream",
     "text": [
      "(1245, 100)\n",
      "(1245,)\n"
     ]
    },
    {
     "data": {
      "text/plain": [
       "(None, None)"
      ]
     },
     "execution_count": 14,
     "metadata": {},
     "output_type": "execute_result"
    }
   ],
   "source": [
    "print(X_test.shape), print(Y_test.shape)"
   ]
  },
  {
   "cell_type": "code",
   "execution_count": 15,
   "id": "0e9d2853",
   "metadata": {},
   "outputs": [],
   "source": [
    "# reshape input to be [samples, time steps features] which is required for LSTM\n",
    "X_train = X_train.reshape(X_train.shape[0],X_train.shape[1],1)\n",
    "X_test = X_test.reshape(X_test.shape[0], X_test.shape[1],1)"
   ]
  },
  {
   "cell_type": "code",
   "execution_count": 16,
   "id": "58f53434",
   "metadata": {},
   "outputs": [],
   "source": [
    "# Create the LSTM model\n",
    "from tensorflow.keras.models import Sequential\n",
    "from tensorflow.keras.layers import Dense\n",
    "from tensorflow.keras.layers import LSTM"
   ]
  },
  {
   "cell_type": "code",
   "execution_count": 17,
   "id": "718a78c3",
   "metadata": {},
   "outputs": [],
   "source": [
    "model = Sequential()\n",
    "model.add(LSTM(50, return_sequences=True, input_shape=(100,1)))\n",
    "model.add(LSTM(50,return_sequences=True))\n",
    "model.add(LSTM(50))\n",
    "model.add(Dense(1))\n",
    "model.compile(loss='mean_squared_error', optimizer='adam')"
   ]
  },
  {
   "cell_type": "code",
   "execution_count": 18,
   "id": "79220a29",
   "metadata": {},
   "outputs": [
    {
     "name": "stdout",
     "output_type": "stream",
     "text": [
      "Model: \"sequential\"\n",
      "_________________________________________________________________\n",
      " Layer (type)                Output Shape              Param #   \n",
      "=================================================================\n",
      " lstm (LSTM)                 (None, 100, 50)           10400     \n",
      "                                                                 \n",
      " lstm_1 (LSTM)               (None, 100, 50)           20200     \n",
      "                                                                 \n",
      " lstm_2 (LSTM)               (None, 50)                20200     \n",
      "                                                                 \n",
      " dense (Dense)               (None, 1)                 51        \n",
      "                                                                 \n",
      "=================================================================\n",
      "Total params: 50851 (198.64 KB)\n",
      "Trainable params: 50851 (198.64 KB)\n",
      "Non-trainable params: 0 (0.00 Byte)\n",
      "_________________________________________________________________\n"
     ]
    }
   ],
   "source": [
    "model.summary()"
   ]
  },
  {
   "cell_type": "code",
   "execution_count": 19,
   "id": "6ab97e2e",
   "metadata": {},
   "outputs": [
    {
     "name": "stdout",
     "output_type": "stream",
     "text": [
      "Epoch 1/100\n",
      "48/48 [==============================] - 33s 489ms/step - loss: 0.0035 - val_loss: 8.4730e-04\n",
      "Epoch 2/100\n",
      "48/48 [==============================] - 20s 419ms/step - loss: 6.8032e-05 - val_loss: 0.0011\n",
      "Epoch 3/100\n",
      "48/48 [==============================] - 20s 415ms/step - loss: 5.7880e-05 - val_loss: 0.0023\n",
      "Epoch 4/100\n",
      "48/48 [==============================] - 21s 429ms/step - loss: 5.8715e-05 - val_loss: 0.0023\n",
      "Epoch 5/100\n",
      "48/48 [==============================] - 21s 429ms/step - loss: 5.5175e-05 - val_loss: 0.0043\n",
      "Epoch 6/100\n",
      "48/48 [==============================] - 21s 441ms/step - loss: 5.4861e-05 - val_loss: 0.0045\n",
      "Epoch 7/100\n",
      "48/48 [==============================] - 21s 434ms/step - loss: 5.3868e-05 - val_loss: 0.0039\n",
      "Epoch 8/100\n",
      "48/48 [==============================] - 20s 426ms/step - loss: 5.6138e-05 - val_loss: 0.0033\n",
      "Epoch 9/100\n",
      "48/48 [==============================] - 20s 416ms/step - loss: 6.2271e-05 - val_loss: 0.0046\n",
      "Epoch 10/100\n",
      "48/48 [==============================] - 20s 419ms/step - loss: 5.2639e-05 - val_loss: 0.0051\n",
      "Epoch 11/100\n",
      "48/48 [==============================] - 20s 419ms/step - loss: 5.5628e-05 - val_loss: 0.0038\n",
      "Epoch 12/100\n",
      "48/48 [==============================] - 20s 428ms/step - loss: 5.1685e-05 - val_loss: 0.0040\n",
      "Epoch 13/100\n",
      "48/48 [==============================] - 20s 427ms/step - loss: 5.3753e-05 - val_loss: 0.0039\n",
      "Epoch 14/100\n",
      "48/48 [==============================] - 20s 420ms/step - loss: 5.2052e-05 - val_loss: 0.0048\n",
      "Epoch 15/100\n",
      "48/48 [==============================] - 20s 414ms/step - loss: 4.9005e-05 - val_loss: 0.0033\n",
      "Epoch 16/100\n",
      "48/48 [==============================] - 21s 432ms/step - loss: 5.3890e-05 - val_loss: 0.0049\n",
      "Epoch 17/100\n",
      "48/48 [==============================] - 21s 438ms/step - loss: 5.0520e-05 - val_loss: 0.0033\n",
      "Epoch 18/100\n",
      "48/48 [==============================] - 21s 438ms/step - loss: 4.6524e-05 - val_loss: 0.0036\n",
      "Epoch 19/100\n",
      "48/48 [==============================] - 20s 421ms/step - loss: 4.7584e-05 - val_loss: 0.0050\n",
      "Epoch 20/100\n",
      "48/48 [==============================] - 20s 416ms/step - loss: 4.7417e-05 - val_loss: 0.0033\n",
      "Epoch 21/100\n",
      "48/48 [==============================] - 20s 414ms/step - loss: 4.8735e-05 - val_loss: 0.0031\n",
      "Epoch 22/100\n",
      "48/48 [==============================] - 19s 403ms/step - loss: 4.8312e-05 - val_loss: 0.0029\n",
      "Epoch 23/100\n",
      "48/48 [==============================] - 19s 409ms/step - loss: 5.5329e-05 - val_loss: 0.0033\n",
      "Epoch 24/100\n",
      "48/48 [==============================] - 20s 415ms/step - loss: 4.6531e-05 - val_loss: 0.0043\n",
      "Epoch 25/100\n",
      "48/48 [==============================] - 20s 416ms/step - loss: 4.5614e-05 - val_loss: 0.0023\n",
      "Epoch 26/100\n",
      "48/48 [==============================] - 20s 410ms/step - loss: 4.4192e-05 - val_loss: 0.0027\n",
      "Epoch 27/100\n",
      "48/48 [==============================] - 21s 429ms/step - loss: 4.9771e-05 - val_loss: 0.0032\n",
      "Epoch 28/100\n",
      "48/48 [==============================] - 21s 432ms/step - loss: 4.3101e-05 - val_loss: 0.0036\n",
      "Epoch 29/100\n",
      "48/48 [==============================] - 21s 444ms/step - loss: 4.3225e-05 - val_loss: 0.0031\n",
      "Epoch 30/100\n",
      "48/48 [==============================] - 22s 456ms/step - loss: 4.7928e-05 - val_loss: 0.0022\n",
      "Epoch 31/100\n",
      "48/48 [==============================] - 20s 419ms/step - loss: 4.4471e-05 - val_loss: 0.0052\n",
      "Epoch 32/100\n",
      "48/48 [==============================] - 19s 407ms/step - loss: 4.4299e-05 - val_loss: 0.0029\n",
      "Epoch 33/100\n",
      "48/48 [==============================] - 20s 414ms/step - loss: 4.0334e-05 - val_loss: 0.0034\n",
      "Epoch 34/100\n",
      "48/48 [==============================] - 20s 418ms/step - loss: 3.9520e-05 - val_loss: 0.0025\n",
      "Epoch 35/100\n",
      "48/48 [==============================] - 20s 417ms/step - loss: 3.9567e-05 - val_loss: 0.0036\n",
      "Epoch 36/100\n",
      "48/48 [==============================] - 20s 414ms/step - loss: 4.3968e-05 - val_loss: 0.0051\n",
      "Epoch 37/100\n",
      "48/48 [==============================] - 20s 420ms/step - loss: 4.0074e-05 - val_loss: 0.0061\n",
      "Epoch 38/100\n",
      "48/48 [==============================] - 20s 418ms/step - loss: 5.2004e-05 - val_loss: 0.0034\n",
      "Epoch 39/100\n",
      "48/48 [==============================] - 20s 424ms/step - loss: 3.3653e-05 - val_loss: 0.0030\n",
      "Epoch 40/100\n",
      "48/48 [==============================] - 21s 435ms/step - loss: 3.8867e-05 - val_loss: 0.0051\n",
      "Epoch 41/100\n",
      "48/48 [==============================] - 21s 443ms/step - loss: 3.2366e-05 - val_loss: 0.0036\n",
      "Epoch 42/100\n",
      "48/48 [==============================] - 21s 437ms/step - loss: 3.1663e-05 - val_loss: 0.0026\n",
      "Epoch 43/100\n",
      "48/48 [==============================] - 20s 420ms/step - loss: 2.9786e-05 - val_loss: 0.0036\n",
      "Epoch 44/100\n",
      "48/48 [==============================] - 24s 500ms/step - loss: 3.0729e-05 - val_loss: 0.0044\n",
      "Epoch 45/100\n",
      "48/48 [==============================] - 21s 431ms/step - loss: 3.4224e-05 - val_loss: 0.0040\n",
      "Epoch 46/100\n",
      "48/48 [==============================] - 21s 431ms/step - loss: 3.0220e-05 - val_loss: 0.0036\n",
      "Epoch 47/100\n",
      "48/48 [==============================] - 20s 416ms/step - loss: 3.0317e-05 - val_loss: 0.0038\n",
      "Epoch 48/100\n",
      "48/48 [==============================] - 20s 413ms/step - loss: 2.8361e-05 - val_loss: 0.0026\n",
      "Epoch 49/100\n",
      "48/48 [==============================] - 21s 437ms/step - loss: 2.7074e-05 - val_loss: 0.0030\n",
      "Epoch 50/100\n",
      "48/48 [==============================] - 20s 424ms/step - loss: 2.6137e-05 - val_loss: 0.0021\n",
      "Epoch 51/100\n",
      "48/48 [==============================] - 21s 430ms/step - loss: 3.0056e-05 - val_loss: 0.0036\n",
      "Epoch 52/100\n",
      "48/48 [==============================] - 21s 442ms/step - loss: 3.2085e-05 - val_loss: 0.0014\n",
      "Epoch 53/100\n",
      "48/48 [==============================] - 22s 450ms/step - loss: 2.7445e-05 - val_loss: 0.0022\n",
      "Epoch 54/100\n",
      "48/48 [==============================] - 21s 429ms/step - loss: 2.6106e-05 - val_loss: 0.0024\n",
      "Epoch 55/100\n",
      "48/48 [==============================] - 20s 420ms/step - loss: 3.0793e-05 - val_loss: 0.0021\n",
      "Epoch 56/100\n",
      "48/48 [==============================] - 20s 426ms/step - loss: 2.4065e-05 - val_loss: 0.0024\n",
      "Epoch 57/100\n",
      "48/48 [==============================] - 21s 431ms/step - loss: 2.4021e-05 - val_loss: 0.0029\n",
      "Epoch 58/100\n",
      "48/48 [==============================] - 20s 425ms/step - loss: 2.4784e-05 - val_loss: 0.0011\n",
      "Epoch 59/100\n",
      "48/48 [==============================] - 20s 413ms/step - loss: 2.1795e-05 - val_loss: 0.0017\n",
      "Epoch 60/100\n",
      "48/48 [==============================] - 21s 432ms/step - loss: 2.1979e-05 - val_loss: 0.0020\n",
      "Epoch 61/100\n",
      "48/48 [==============================] - 21s 431ms/step - loss: 2.0800e-05 - val_loss: 0.0019\n",
      "Epoch 62/100\n",
      "48/48 [==============================] - 20s 423ms/step - loss: 2.2297e-05 - val_loss: 0.0013\n",
      "Epoch 63/100\n",
      "48/48 [==============================] - 20s 421ms/step - loss: 2.3049e-05 - val_loss: 0.0019\n",
      "Epoch 64/100\n",
      "48/48 [==============================] - 20s 430ms/step - loss: 2.0406e-05 - val_loss: 0.0023\n",
      "Epoch 65/100\n",
      "48/48 [==============================] - 21s 447ms/step - loss: 2.0586e-05 - val_loss: 0.0017\n",
      "Epoch 66/100\n",
      "48/48 [==============================] - 21s 428ms/step - loss: 2.1559e-05 - val_loss: 0.0016\n",
      "Epoch 67/100\n",
      "48/48 [==============================] - 20s 424ms/step - loss: 2.4460e-05 - val_loss: 0.0016\n",
      "Epoch 68/100\n",
      "48/48 [==============================] - 20s 419ms/step - loss: 2.3917e-05 - val_loss: 0.0018\n",
      "Epoch 69/100\n",
      "48/48 [==============================] - 19s 403ms/step - loss: 1.8297e-05 - val_loss: 0.0020\n",
      "Epoch 70/100\n",
      "48/48 [==============================] - 20s 424ms/step - loss: 1.8197e-05 - val_loss: 0.0017\n",
      "Epoch 71/100\n",
      "48/48 [==============================] - 20s 423ms/step - loss: 2.3679e-05 - val_loss: 9.7454e-04\n",
      "Epoch 72/100\n",
      "48/48 [==============================] - 20s 420ms/step - loss: 2.0825e-05 - val_loss: 0.0022\n",
      "Epoch 73/100\n",
      "48/48 [==============================] - 20s 412ms/step - loss: 2.0056e-05 - val_loss: 8.6055e-04\n",
      "Epoch 74/100\n",
      "48/48 [==============================] - 20s 429ms/step - loss: 1.8846e-05 - val_loss: 9.4835e-04\n",
      "Epoch 75/100\n",
      "48/48 [==============================] - 63s 1s/step - loss: 2.0187e-05 - val_loss: 0.0013\n",
      "Epoch 76/100\n",
      "48/48 [==============================] - 18s 380ms/step - loss: 2.8247e-05 - val_loss: 0.0011\n",
      "Epoch 77/100\n"
     ]
    },
    {
     "name": "stdout",
     "output_type": "stream",
     "text": [
      "48/48 [==============================] - 20s 422ms/step - loss: 1.9750e-05 - val_loss: 0.0015\n",
      "Epoch 78/100\n",
      "48/48 [==============================] - 20s 415ms/step - loss: 2.4864e-05 - val_loss: 0.0017\n",
      "Epoch 79/100\n",
      "48/48 [==============================] - 20s 417ms/step - loss: 1.6356e-05 - val_loss: 8.6326e-04\n",
      "Epoch 80/100\n",
      "48/48 [==============================] - 20s 421ms/step - loss: 1.8946e-05 - val_loss: 0.0011\n",
      "Epoch 81/100\n",
      "48/48 [==============================] - 20s 421ms/step - loss: 1.9146e-05 - val_loss: 8.0516e-04\n",
      "Epoch 82/100\n",
      "48/48 [==============================] - 19s 410ms/step - loss: 1.5801e-05 - val_loss: 0.0012\n",
      "Epoch 83/100\n",
      "48/48 [==============================] - 20s 419ms/step - loss: 1.6406e-05 - val_loss: 9.2533e-04\n",
      "Epoch 84/100\n",
      "48/48 [==============================] - 20s 416ms/step - loss: 1.7017e-05 - val_loss: 0.0012\n",
      "Epoch 85/100\n",
      "48/48 [==============================] - 21s 431ms/step - loss: 1.4882e-05 - val_loss: 0.0016\n",
      "Epoch 86/100\n",
      "48/48 [==============================] - 21s 437ms/step - loss: 1.4345e-05 - val_loss: 0.0011\n",
      "Epoch 87/100\n",
      "48/48 [==============================] - 21s 443ms/step - loss: 1.4524e-05 - val_loss: 7.6684e-04\n",
      "Epoch 88/100\n",
      "48/48 [==============================] - 20s 424ms/step - loss: 1.4299e-05 - val_loss: 8.1001e-04\n",
      "Epoch 89/100\n",
      "48/48 [==============================] - 20s 414ms/step - loss: 1.5264e-05 - val_loss: 8.5321e-04\n",
      "Epoch 90/100\n",
      "48/48 [==============================] - 20s 416ms/step - loss: 1.3912e-05 - val_loss: 0.0011\n",
      "Epoch 91/100\n",
      "48/48 [==============================] - 20s 413ms/step - loss: 1.4128e-05 - val_loss: 0.0011\n",
      "Epoch 92/100\n",
      "48/48 [==============================] - 20s 421ms/step - loss: 1.6091e-05 - val_loss: 5.8568e-04\n",
      "Epoch 93/100\n",
      "48/48 [==============================] - 20s 411ms/step - loss: 1.6500e-05 - val_loss: 5.6642e-04\n",
      "Epoch 94/100\n",
      "48/48 [==============================] - 20s 424ms/step - loss: 2.0037e-05 - val_loss: 0.0011\n",
      "Epoch 95/100\n",
      "48/48 [==============================] - 20s 417ms/step - loss: 1.5372e-05 - val_loss: 0.0010\n",
      "Epoch 96/100\n",
      "48/48 [==============================] - 20s 422ms/step - loss: 1.5601e-05 - val_loss: 8.2548e-04\n",
      "Epoch 97/100\n",
      "48/48 [==============================] - 20s 428ms/step - loss: 1.6228e-05 - val_loss: 0.0017\n",
      "Epoch 98/100\n",
      "48/48 [==============================] - 21s 443ms/step - loss: 1.3676e-05 - val_loss: 0.0010\n",
      "Epoch 99/100\n",
      "48/48 [==============================] - 21s 439ms/step - loss: 1.6491e-05 - val_loss: 0.0013\n",
      "Epoch 100/100\n",
      "48/48 [==============================] - 20s 427ms/step - loss: 1.3823e-05 - val_loss: 9.6638e-04\n"
     ]
    },
    {
     "data": {
      "text/plain": [
       "<keras.src.callbacks.History at 0x1663e4bac50>"
      ]
     },
     "execution_count": 19,
     "metadata": {},
     "output_type": "execute_result"
    }
   ],
   "source": [
    "model.fit(X_train, Y_train, validation_data=(X_test,Y_test),epochs=100,batch_size=64,verbose=1)"
   ]
  },
  {
   "cell_type": "code",
   "execution_count": 20,
   "id": "38b6bfd8",
   "metadata": {},
   "outputs": [
    {
     "name": "stdout",
     "output_type": "stream",
     "text": [
      "95/95 [==============================] - 7s 59ms/step\n",
      "39/39 [==============================] - 2s 61ms/step\n"
     ]
    }
   ],
   "source": [
    "# perform prediction\n",
    "train_predict = model.predict(X_train)\n",
    "test_predict = model.predict(X_test)"
   ]
  },
  {
   "cell_type": "code",
   "execution_count": 21,
   "id": "217bfa0c",
   "metadata": {},
   "outputs": [],
   "source": [
    "# Transform to original form\n",
    "train_predict = scaler.inverse_transform(train_predict)\n",
    "test_predict = scaler.inverse_transform(test_predict)"
   ]
  },
  {
   "cell_type": "code",
   "execution_count": 22,
   "id": "8c866f81",
   "metadata": {},
   "outputs": [
    {
     "name": "stdout",
     "output_type": "stream",
     "text": [
      "560225.1461894115\n"
     ]
    }
   ],
   "source": [
    "### Calculate the MSE performance metrics\n",
    "from sklearn.metrics import mean_squared_error\n",
    "print(mean_squared_error(Y_train, train_predict))"
   ]
  },
  {
   "cell_type": "code",
   "execution_count": 23,
   "id": "25aa8269",
   "metadata": {},
   "outputs": [
    {
     "data": {
      "text/plain": [
       "6252255.6074536415"
      ]
     },
     "execution_count": 23,
     "metadata": {},
     "output_type": "execute_result"
    }
   ],
   "source": [
    "### Test Data MSE\n",
    "mean_squared_error(Y_test, test_predict)"
   ]
  },
  {
   "cell_type": "code",
   "execution_count": 30,
   "id": "7b694be7",
   "metadata": {},
   "outputs": [
    {
     "data": {
      "image/png": "[encoded data removed]",
      "text/plain": [
       "<Figure size 640x480 with 1 Axes>"
      ]
     },
     "metadata": {},
     "output_type": "display_data"
    }
   ],
   "source": [
    "### Plotting\n",
    "# shift train predictions for plotting\n",
    "look_back = 100\n",
    "trainPredictPlot = np.empty_like(df1)\n",
    "trainPredictPlot[:, :] = np.nan\n",
    "trainPredictPlot[look_back:len(train_predict)+look_back, :] = train_predict\n",
    "# shift test predictions for plotting\n",
    "testPredictPlot = np.empty_like(df1)\n",
    "testPredictPlot[: , :] = np.nan\n",
    "testPredictPlot[len(train_predict)+(look_back*2)+1:len(df1)-1, :] = test_predict\n",
    "# plot baseline and predictions\n",
    "plt.plot(scaler.inverse_transform(df1))\n",
    "plt.plot(trainPredictPlot)\n",
    "plt.plot(testPredictPlot)\n",
    "plt.legend([\"Actual Data\", \"Predict_TrainData\", \"Predict_TestData\"])\n",
    "plt.show()"
   ]
  },
  {
   "cell_type": "code",
   "execution_count": null,
   "id": "f8997e84",
   "metadata": {},
   "outputs": [],
   "source": []
  }
 ],
 "metadata": {
  "kernelspec": {
   "display_name": "Python 3 (ipykernel)",
   "language": "python",
   "name": "python3"
  },
  "language_info": {
   "codemirror_mode": {
    "name": "ipython",
    "version": 3
   },
   "file_extension": ".py",
   "mimetype": "text/x-python",
   "name": "python",
   "nbconvert_exporter": "python",
   "pygments_lexer": "ipython3",
   "version": "3.11.2"
  }
 },
 "nbformat": 4,
 "nbformat_minor": 5
}
